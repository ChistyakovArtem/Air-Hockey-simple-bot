{
 "nbformat": 4,
 "nbformat_minor": 0,
 "metadata": {
  "kernelspec": {
   "display_name": "Python 3",
   "language": "python",
   "name": "python3"
  },
  "language_info": {
   "codemirror_mode": {
    "name": "ipython",
    "version": 3
   },
   "file_extension": ".py",
   "mimetype": "text/x-python",
   "name": "python",
   "nbconvert_exporter": "python",
   "pygments_lexer": "ipython3",
   "version": "3.7.4"
  },
  "colab": {
   "name": "Air_hockey_bot.ipynb",
   "provenance": []
  }
 },
 "cells": [
  {
   "cell_type": "code",
   "metadata": {
    "id": "y40dUKbCBp0b",
    "colab": {
     "base_uri": "https://localhost:8080/",
     "height": 346
    },
    "outputId": "b1ec4ff8-1673-4334-fa1c-2b3822ebebbb"
   },
   "source": [
    "from tkinter import Tk\n",
    "from tkinter import *\n",
    "import random\n",
    "\n",
    "root = Tk()\n",
    "root.title(\"Glow_hockey\")\n",
    "root.geometry('1370x750')"
   ],
   "execution_count": 22,
   "outputs": [
    {
     "data": {
      "text/plain": "''"
     },
     "execution_count": 22,
     "metadata": {},
     "output_type": "execute_result"
    }
   ]
  },
  {
   "cell_type": "code",
   "metadata": {
    "id": "_gdrQECUBp1A"
   },
   "source": [
    "\n",
    "AI_control = 0\n",
    "pl_control = 0\n",
    "\n",
    "width = 1370\n",
    "height = 750\n",
    "barrier = 25\n",
    "goal_size = 350\n",
    "\n",
    "indent = 100\n",
    "st_vel = 20\n",
    "goal_up = height // 2 - goal_size // 2\n",
    "goal_down = height // 2 + goal_size // 2\n",
    "pad_size = 50\n",
    "puck_size = 30\n",
    "AI_score = 0\n",
    "pl_score = 0\n",
    "\n",
    "AI_x_start = barrier + indent - pad_size // 2\n",
    "AI_y_start = height // 2 - pad_size // 2\n",
    "\n",
    "pl_x_start = width - (barrier + indent + pad_size // 2)\n",
    "pl_y_start = height // 2 - pad_size // 2\n",
    "\n",
    "puck_x_start = width // 2 - puck_size  // 2 + 30\n",
    "puck_y_start = height // 2 - puck_size // 2"
   ],
   "execution_count": 23,
   "outputs": []
  },
  {
   "cell_type": "code",
   "metadata": {
    "id": "h9Indy0tBp1D"
   },
   "source": [
    "canv = Canvas(bg = 'red')\n",
    "\n",
    "canv.create_rectangle(barrier, barrier , width - barrier, height - barrier, fill = 'black')\n",
    "canv.create_rectangle(0, goal_up, barrier, goal_down, fill = 'cyan')\n",
    "canv.create_rectangle(width - barrier, goal_up, width, goal_down, fill = 'cyan')\n",
    "canv.create_line(width // 2, barrier, width // 2, height - barrier, fill = 'orange')\n",
    "canv.create_oval(AI_x_start , AI_y_start , AI_x_start + pad_size , AI_y_start + pad_size , fill = 'blue', tag = 'AI')\n",
    "canv.create_oval(pl_x_start , pl_y_start , pl_x_start + pad_size , pl_y_start + pad_size , fill = 'magenta', tag = 'pl')\n",
    "canv.create_oval(puck_x_start, puck_y_start , puck_x_start + puck_size , puck_y_start + puck_size , fill = 'pink', tag = 'puck')\n",
    "canv.create_text(100, 100, text = AI_score, font=\"Arial 20\", fill = \"white\", tag = \"AI_score\")\n",
    "canv.create_text(800, 100, text = pl_score, font=\"Arial 20\", fill = \"white\", tag = \"pl_score\")\n",
    "\n",
    "canv.pack(fill = BOTH, expand = 1)\n",
    "\n",
    "AI_x = AI_x_start; AI_y = AI_y_start\n",
    "pl_x = pl_x_start; pl_y = pl_y_start\n",
    "puck_x = puck_x_start; puck_y = puck_y_start\n",
    "\n",
    "vel_AI_x = 0; vel_AI_y = 0\n",
    "vel_pl_x = 0; vel_pl_y = 0\n",
    "vel_puck_x = 0; vel_puck_y = 0"
   ],
   "execution_count": 24,
   "outputs": []
  },
  {
   "cell_type": "code",
   "metadata": {
    "id": "jJp_G0njBp1H"
   },
   "source": [
    "def AI():\n",
    "    global pl_control, puck_x, puck_y, vel_puck_x, vel_puck_y\n",
    "    global AI_x, AI_y, vel_AI_x, vel_AI_y, AI_control\n",
    "    \n",
    "    if vel_puck_x == 0 and vel_puck_y == 0 and puck_x < width // 2 and not AI_control:\n",
    "        vel_AI_x = st_vel\n",
    "        vel_AI_y = 0\n",
    "    elif AI_control:\n",
    "        AI_control = 0\n",
    "        vel_puck_x = 2 * st_vel\n",
    "        vel_puck_y = 2 * st_vel * (random.randint(1, 3) - 2)\n",
    "        puck_x += vel_puck_x * 2\n",
    "        puck_y += vel_puck_y * 2\n",
    "    elif vel_puck_x == 0 or pl_control:\n",
    "        if abs((height // 2 - AI_y - pad_size // 2) * 2 - (height // 2 - puck_y - puck_size // 2)) >= 2 * st_vel:\n",
    "            if (height // 2 - AI_y - pad_size // 2) * 2 > (height // 2 - puck_y - puck_size // 2):\n",
    "                vel_AI_y = st_vel\n",
    "            else:\n",
    "                vel_AI_y = - st_vel\n",
    "        else:\n",
    "            vel_AI_y = 0\n",
    "        \n",
    "        if abs ((AI_x + pad_size // 2 - barrier) * 2 - (width - barrier - (puck_x + puck_size // 2))) >= 2 * st_vel:\n",
    "            if (AI_x + pad_size // 2 - barrier) * 2 > (width - barrier - (puck_x + puck_size // 2)):\n",
    "                vel_AI_x = - st_vel\n",
    "            else:\n",
    "                vel_AI_x = st_vel\n",
    "        else:\n",
    "            vel_AI_x = 0\n",
    "        \n",
    "    elif not pl_control and vel_puck_x != 0:\n",
    "        tmp_x, tmp_y, vel_tmp_x, vel_tmp_y = puck_x, puck_y, vel_puck_x, vel_puck_y\n",
    "        for t in range (100):\n",
    "            tmp_x += vel_tmp_x\n",
    "            tmp_y += vel_tmp_y\n",
    "            \n",
    "            if tmp_y < barrier:\n",
    "                tmp_y = barrier\n",
    "                vel_tmp_y = - vel_tmp_y\n",
    "            if tmp_y > height - barrier - puck_size:\n",
    "                tmp_y = height - barrier - puck_size\n",
    "                vel_tmp_y = - vel_tmp_y\n",
    "            \n",
    "            if tmp_x < barrier:\n",
    "                tmp_x = barrier\n",
    "                vel_tmp_x = - vel_tmp_x\n",
    "                \n",
    "            if tmp_x > width - barrier - puck_size:\n",
    "                tmp_x = width - barrier - puck_size\n",
    "                vel_tmp_x = - vel_tmp_x\n",
    "                \n",
    "            \n",
    "            if max(abs(tmp_x - AI_x), abs(tmp_y - AI_y)) < t * st_vel + pad_size // 2 + puck_size // 2 and tmp_x < width // 2:\n",
    "                if AI_x < tmp_x - st_vel // 2:\n",
    "                    vel_AI_x = st_vel\n",
    "                else:\n",
    "                    vel_AI_x= - st_vel\n",
    "                    \n",
    "                if AI_y < tmp_y - st_vel // 2:\n",
    "                    vel_AI_y = st_vel\n",
    "                else:\n",
    "                    vel_AI_y = - st_vel\n",
    "                break"
   ],
   "execution_count": 25,
   "outputs": []
  },
  {
   "cell_type": "code",
   "metadata": {
    "id": "hb21tCiWBp1R"
   },
   "source": [
    "def update_coords():\n",
    "    global AI_x, AI_y, vel_AI_x, vel_AI_y\n",
    "    global pl_x, pl_y, vel_pl_x, vel_pl_y\n",
    "    global puck_x, puck_y, vel_puck_x, vel_puck_y\n",
    "    global AI_control, pl_control\n",
    "    \n",
    "    center_AI_x = AI_x + pad_size // 2\n",
    "    center_AI_y = AI_y + pad_size // 2\n",
    "    center_pl_x = pl_x + pad_size // 2\n",
    "    center_pl_y = pl_y + pad_size // 2\n",
    "    center_puck_x = puck_x + puck_size // 2\n",
    "    center_puck_y = puck_y + puck_size // 2\n",
    "    \n",
    "    if (center_AI_x - center_puck_x)**2 + (center_AI_y - center_puck_y)**2 <= ((pad_size + puck_size) // 2)**2:\n",
    "        AI_control = 1\n",
    "        \n",
    "    if (center_pl_x - center_puck_x)**2 + (center_pl_y - center_puck_y)**2 <= ((pad_size + puck_size) // 2)**2:\n",
    "        pl_control = 1\n",
    "    \n",
    "    if AI_control:\n",
    "        puck_x = AI_x + pad_size // 2 - puck_size // 2\n",
    "        puck_y = AI_y + pad_size // 2 - puck_size // 2\n",
    "        vel_puck_x = vel_AI_x\n",
    "        vel_puck_y = vel_AI_y\n",
    "    if pl_control:\n",
    "        puck_x = pl_x + pad_size // 2 - puck_size // 2\n",
    "        puck_y = pl_y + pad_size // 2 - puck_size // 2\n",
    "        vel_puck_x = vel_pl_x\n",
    "        vel_puck_y = vel_pl_y\n",
    "        \n",
    "    AI_x += vel_AI_x; AI_y += vel_AI_y\n",
    "    pl_x += vel_pl_x; pl_y += vel_pl_y\n",
    "    puck_x += vel_puck_x; puck_y += vel_puck_y"
   ],
   "execution_count": 26,
   "outputs": []
  },
  {
   "cell_type": "code",
   "metadata": {
    "id": "AzCu8FElBp1f"
   },
   "source": [
    "def collision():\n",
    "    global AI_x, AI_y, vel_AI_x, vel_AI_y\n",
    "    global pl_x, pl_y, vel_pl_x, vel_pl_y\n",
    "    global puck_x, puck_y, vel_puck_x, vel_puck_y\n",
    "    global AI_control, pl_control\n",
    "    global AI_score, pl_score\n",
    "    \n",
    "    if AI_x < barrier:\n",
    "        AI_x = barrier\n",
    "    if AI_y < barrier:\n",
    "        AI_y = barrier\n",
    "    if AI_x + pad_size > width // 2:\n",
    "        AI_x = width // 2 - pad_size\n",
    "    if AI_y + pad_size > height - barrier:\n",
    "        AI_y = height - barrier - pad_size\n",
    "    \n",
    "    if pl_x < width // 2:\n",
    "        pl_x = width // 2\n",
    "        vel_pl_x = 0\n",
    "    if pl_y < barrier:\n",
    "        pl_y = barrier\n",
    "        vel_pl_y = 0\n",
    "    if pl_x + pad_size > width - barrier:\n",
    "        pl_x = width - barrier - pad_size\n",
    "        vel_pl_x = 0\n",
    "    if pl_y + pad_size > height - barrier:\n",
    "        pl_y = height - barrier - pad_size\n",
    "        vel_pl_y = 0\n",
    "    \n",
    "    if puck_x < barrier and goal_up < puck_y < goal_down - puck_size and not AI_control:\n",
    "        puck_x = width // 2 - puck_size // 2 - 50\n",
    "        puck_y = height // 2 - puck_size // 2\n",
    "        AI_x = AI_x_start; AI_y = AI_y_start\n",
    "        pl_x = pl_x_start; pl_y = pl_y_start\n",
    "        vel_puck_x = - st_vel; vel_puck_y = 0\n",
    "        AI_score += 1\n",
    "    elif puck_x < barrier:\n",
    "        puck_x = barrier\n",
    "        vel_puck_x = - vel_puck_x\n",
    "        \n",
    "    if puck_x > width - barrier - puck_size and goal_up < puck_y < goal_down - puck_size and not pl_control:\n",
    "        puck_x = width // 2 - puck_size // 2 + 50\n",
    "        puck_y = height // 2 - puck_size // 2\n",
    "        AI_x = AI_x_start; AI_y = AI_y_start\n",
    "        pl_x = pl_x_start; pl_y = pl_y_start\n",
    "        vel_puck_x = st_vel; vel_puck_y = 0\n",
    "        pl_score += 1\n",
    "        \n",
    "    elif puck_x > width - barrier - puck_size:\n",
    "        puck_x = width - barrier - puck_size\n",
    "        vel_puck_x = - vel_puck_x\n",
    "    \n",
    "    if puck_y < barrier:\n",
    "        puck_y = barrier\n",
    "        vel_puck_y = - vel_puck_y\n",
    "    if puck_y > height - barrier - puck_size:\n",
    "        puck_y = height - barrier - puck_size\n",
    "        vel_puck_y = - vel_puck_y"
   ],
   "execution_count": 27,
   "outputs": []
  },
  {
   "cell_type": "code",
   "metadata": {
    "id": "IoG-sxZ0Bp1m"
   },
   "source": [
    "def repaint():\n",
    "    canv.delete('AI')\n",
    "    canv.delete('pl')\n",
    "    canv.delete('puck')\n",
    "    canv.delete('AI_score')\n",
    "    canv.delete('pl_score')\n",
    "    \n",
    "    canv.create_oval(AI_x, AI_y, AI_x + pad_size, AI_y + pad_size, fill = 'blue', tag = 'AI')\n",
    "    canv.create_oval(pl_x, pl_y, pl_x + pad_size, pl_y + pad_size, fill = 'magenta', tag = 'pl')\n",
    "    canv.create_oval(puck_x, puck_y, puck_x + puck_size, puck_y + puck_size, fill = 'pink', tag = 'puck')\n",
    "    canv.create_text(100, 100, text = pl_score, font=\"Arial 20\", fill = \"white\", tag = 'AI_score')\n",
    "    canv.create_text(800, 100, text = AI_score, font=\"Arial 20\", fill = \"white\", tag = 'pl_score')"
   ],
   "execution_count": 28,
   "outputs": []
  },
  {
   "cell_type": "code",
   "metadata": {
    "id": "fqr_2BC6Bp1u"
   },
   "source": [
    "def update_env():    \n",
    "    AI()\n",
    "    \n",
    "    update_coords()\n",
    "    \n",
    "    collision()\n",
    "    \n",
    "    repaint()\n",
    "\n",
    "def main():\n",
    "    update_env()\n",
    "    root.after(30, main)\n",
    "\n",
    "canv.focus_set()"
   ],
   "execution_count": 29,
   "outputs": []
  },
  {
   "cell_type": "code",
   "metadata": {
    "id": "XAbuBhueBp1y"
   },
   "source": [
    "def movement_handler(event):\n",
    "    global vel_pl_x, vel_pl_y, pl_control, puck_x, puck_y, vel_puck_x, vel_puck_y\n",
    "    \n",
    "    if event.keysym == \"Up\":\n",
    "        vel_pl_y = - st_vel\n",
    "    if event.keysym == \"Down\":\n",
    "        vel_pl_y = st_vel\n",
    "    if event.keysym == \"Left\":\n",
    "        vel_pl_x = - st_vel\n",
    "    if event.keysym == \"Right\":\n",
    "        vel_pl_x = st_vel\n",
    "    if event.keysym == \"Return\" and pl_control:\n",
    "        pl_control = 0\n",
    "        vel_puck_x = 2 * vel_pl_x\n",
    "        vel_puck_y = 2 * vel_pl_y\n",
    "        puck_x += vel_puck_x * 2\n",
    "        puck_y += vel_puck_y * 2\n",
    "        \n",
    "canv.bind(\"<KeyPress>\", movement_handler)"
   ],
   "execution_count": 30,
   "outputs": [
    {
     "data": {
      "text/plain": "'2859544671296movement_handler'"
     },
     "execution_count": 30,
     "metadata": {},
     "output_type": "execute_result"
    }
   ]
  },
  {
   "cell_type": "code",
   "metadata": {
    "id": "g9aUEXQlBp13",
    "pycharm": {
     "name": "#%%\n"
    }
   },
   "source": [
    "def stop_pad(event):\n",
    "    global vel_pl_x, vel_pl_y\n",
    "    \n",
    "    if event.keysym in (\"Left\", \"Right\"):\n",
    "        vel_pl_x = 0\n",
    "    if event.keysym in (\"Up\", \"Down\"):\n",
    "        vel_pl_y = 0\n",
    "    \n",
    "    \n",
    "canv.bind(\"<KeyRelease>\", stop_pad)\n",
    "\n",
    "main()\n",
    " \n",
    "mainloop()"
   ],
   "execution_count": 31,
   "outputs": []
  },
  {
   "cell_type": "code",
   "execution_count": null,
   "outputs": [],
   "source": [],
   "metadata": {
    "collapsed": false,
    "pycharm": {
     "name": "#%%\n"
    }
   }
  }
 ]
}
